{
 "cells": [
  {
   "cell_type": "code",
   "execution_count": 1,
   "id": "457921a7-d9cc-441a-a8ef-98869547f7c0",
   "metadata": {},
   "outputs": [
    {
     "name": "stdout",
     "output_type": "stream",
     "text": [
      "Initial list L= [10, 20, 30, 40, 50, 60, 70, 80]\n",
      "1. L= [10, 20, 30, 40, 50, 60, 70, 80, 200, 300]\n",
      "2. L= [20, 40, 50, 60, 70, 80, 200, 300]\n",
      "3. L= [20, 40, 50, 60, 70, 80, 200, 300]\n",
      "4. L= [300, 200, 80, 70, 60, 50, 40, 20]\n"
     ]
    }
   ],
   "source": [
    "# Q1 Create a List L that is defined as= [10, 20, 30, 40, 50, 60, 70, 80].\n",
    "L=[10, 20, 30, 40, 50, 60, 70, 80]\n",
    "print(\"Initial list L=\", L)\n",
    "\n",
    "# i. WAP to add 200 and 300 to L.\n",
    "L.append(200)\n",
    "L.append(300)\n",
    "print(\"1. L=\", L)\n",
    "\n",
    "# ii. WAP to remove 10 and 30 from L.\n",
    "L.remove(10)\n",
    "L.remove(30)\n",
    "print(\"2. L=\", L)\n",
    "\n",
    "# iii. WAP to sort L in ascending order.\n",
    "L.sort()\n",
    "print('3. L=',L)\n",
    "\n",
    "# iv. WAP to sort L in descending order.\n",
    "L.sort(reverse=True)\n",
    "print('4. L=',L)"
   ]
  },
  {
   "cell_type": "code",
   "execution_count": 2,
   "id": "f1284f5e-9050-45c6-8776-00e1289646c3",
   "metadata": {},
   "outputs": [
    {
     "name": "stdout",
     "output_type": "stream",
     "text": [
      "scores = (45, 89.5, 76, 45.4, 89, 92, 58, 45)\n",
      "highest score = 92  index is  5\n",
      "lowest score = 45  count is  2\n",
      "[45, 58, 92, 89, 45.4, 76, 89.5, 45]\n"
     ]
    },
    {
     "name": "stdin",
     "output_type": "stream",
     "text": [
      "enter score:  76\n"
     ]
    },
    {
     "name": "stdout",
     "output_type": "stream",
     "text": [
      "element found at index  5\n"
     ]
    }
   ],
   "source": [
    "# 2. Create a tuple of marks scored as scores = (45, 89.5, 76, 45.4, 89, 92, 58, 45) \n",
    "scores = (45, 89.5, 76, 45.4, 89, 92, 58, 45)\n",
    "print(\"scores =\",scores)\n",
    "# perform the following operations using tuple functions:\n",
    "# i. Identify the highest score and its index in the tuple.\n",
    "highest_score=max(scores)\n",
    "index1=scores.index(highest_score)\n",
    "print(\"highest score =\",highest_score ,\" index is \",index1)\n",
    "\n",
    "# ii. Find the lowest score and count how many times it appears.\n",
    "lowest_score=min(scores)\n",
    "count=scores.count(lowest_score)\n",
    "print(\"lowest score =\",lowest_score ,\" count is \",count)\n",
    "\n",
    "# iii. Reverse the tuple and return it as a list.\n",
    "scores=scores[::-1]\n",
    "score_list=list(scores)\n",
    "print(score_list)\n",
    "\n",
    "# iv. Check if a specific score ‘76’ (input by the user) is present in the tuple and print its first occurrence index, or a message saying it’s not present.int()\n",
    "s=float(input(\"enter score: \"))\n",
    "if s in scores:\n",
    "  print(\"element found at index \",scores.index(s))\n",
    "else :\n",
    "  print(\"its not present\")"
   ]
  },
  {
   "cell_type": "code",
   "execution_count": 3,
   "id": "6cb8143b-a595-434f-b9a4-498f12bf4c4c",
   "metadata": {},
   "outputs": [
    {
     "name": "stdout",
     "output_type": "stream",
     "text": [
      "list = [421, 517, 401, 768, 895, 612, 358, 869, 113, 103, 753, 187, 877, 755, 163, 392, 125, 282, 240, 238, 136, 191, 187, 350, 518, 652, 781, 169, 439, 769, 186, 478, 748, 395, 784, 278, 199, 609, 867, 846, 707, 727, 432, 405, 580, 707, 478, 282, 747, 598, 482, 290, 844, 852, 140, 328, 161, 212, 417, 713, 190, 554, 685, 430, 380, 165, 178, 705, 118, 339, 219, 412, 365, 691, 524, 507, 125, 263, 737, 257, 660, 800, 498, 189, 715, 453, 142, 572, 857, 352, 313, 859, 133, 466, 405, 809, 755, 775, 793, 280]\n",
      "Odd nums :  [421, 517, 401, 895, 869, 113, 103, 753, 187, 877, 755, 163, 125, 191, 187, 781, 169, 439, 769, 395, 199, 609, 867, 707, 727, 405, 707, 747, 161, 417, 713, 685, 165, 705, 339, 219, 365, 691, 507, 125, 263, 737, 257, 189, 715, 453, 857, 313, 859, 133, 405, 809, 755, 775, 793]\n",
      "Even nums :  [768, 612, 358, 392, 282, 240, 238, 136, 350, 518, 652, 186, 478, 748, 784, 278, 846, 432, 580, 478, 282, 598, 482, 290, 844, 852, 140, 328, 212, 190, 554, 430, 380, 178, 118, 412, 524, 660, 800, 498, 142, 572, 352, 466, 280]\n",
      "Prime nums :  [421, 401, 113, 103, 877, 163, 191, 439, 769, 199, 727, 691, 263, 257, 857, 313, 859, 809]\n"
     ]
    }
   ],
   "source": [
    "\n",
    "# 3. WAP to create a list of 100 random numbers between 100 and 900. Count and print the:\n",
    "import random as random\n",
    "\n",
    "def is_prime(num):\n",
    "  if num<=1:\n",
    "    return False\n",
    "  for i in range(2, int(num**0.5) + 1):\n",
    "        if num % i == 0:\n",
    "            return False\n",
    "  return True\n",
    "\n",
    "random_nums=[]\n",
    "\n",
    "for i in range(100):\n",
    "  random_nums.append(random.randint(100, 900))\n",
    "\n",
    "print(\"list =\",random_nums)\n",
    "\n",
    "odd_nums=[]\n",
    "even_nums=[]\n",
    "prime_nums=[]\n",
    "\n",
    "for i in random_nums:\n",
    "  if i%2==0:\n",
    "    even_nums.append(i)\n",
    "  else :\n",
    "    odd_nums.append(i)\n",
    "\n",
    "  if is_prime(i):\n",
    "    prime_nums.append(i)\n",
    "\n",
    "\n",
    "\n",
    "# i. All odd numbers\n",
    "print(\"Odd nums : \",odd_nums)\n",
    "# ii. All even numbers\n",
    "print(\"Even nums : \",even_nums)\n",
    "# iii. All prime numbers\n",
    "print(\"Prime nums : \",prime_nums)"
   ]
  },
  {
   "cell_type": "code",
   "execution_count": 4,
   "id": "7e2eb388-8ba1-452d-86e1-90c43e8195e7",
   "metadata": {},
   "outputs": [
    {
     "name": "stdout",
     "output_type": "stream",
     "text": [
      "unique score :  {34, 45, 78, 23, 56, 90}\n",
      "common scores :  {90, 78}\n",
      "symmetric difference :  {34, 45, 23, 56}\n",
      "is A subset of B  False\n",
      "is B a superset of A  False\n"
     ]
    },
    {
     "name": "stdin",
     "output_type": "stream",
     "text": [
      "enter score to remove 90\n"
     ]
    },
    {
     "name": "stdout",
     "output_type": "stream",
     "text": [
      "{56, 34, 78}\n"
     ]
    }
   ],
   "source": [
    "# 4. Consider the following two sets, A and B, representing scores of two teams in multiple matches. A = {34, 56, 78, 90} and B = {78, 45, 90, 23}\n",
    "# WAP to perform the following operations using set functions:\n",
    "A = {34, 56, 78, 90}\n",
    "B = {78, 45, 90, 23}\n",
    "\n",
    "# i. Find the unique scores achieved by both teams (union of sets).\n",
    "unique_scores=A.union(B)\n",
    "print(\"unique score : \",unique_scores)\n",
    "# ii. Identify the scores that are common to both teams (intersection of sets).\n",
    "common_scores=A.intersection(B)\n",
    "print(\"common scores : \",common_scores)\n",
    "\n",
    "# iii. Find the scores that are exclusive to each team (symmetric difference).\n",
    "exclusive_scores=A.symmetric_difference(B)\n",
    "print(\"symmetric difference : \",exclusive_scores)\n",
    "\n",
    "# iv. Check if the scores of team A are a subset of team B, and if team B's scores are a superset of team A.\n",
    "print(\"is A subset of B \",A.issubset(B))\n",
    "print(\"is B a superset of A \",B.issuperset(A))\n",
    "\n",
    "# v. Remove a specific score X (input by the user) from set A if it exists. If not, print a message saying it is not present.\n",
    "x=int(input(\"enter score to remove\"))\n",
    "if x in A:\n",
    "  A.remove(x)\n",
    "  print(A)\n",
    "else :\n",
    "  print(\"its not present\")"
   ]
  },
  {
   "cell_type": "code",
   "execution_count": null,
   "id": "e61c87dd-40ab-412d-8a20-eec52964d13e",
   "metadata": {},
   "outputs": [],
   "source": [
    "#5. Write a program to rename a key city to a locaƟon in the following dictionary.\n",
    "dictionary1={\n",
    "    \"name\":\"Kelly\",\n",
    "    \"age\":25,\n",
    "    \"salary\":8000,\n",
    "    \"city\":\"New York\"\n",
    "}\n",
    "\n",
    "if \"city\" in dict1:\n",
    "  dictionary[\"location\"] = dictionary.pop(\"city\")\n",
    "\n",
    "print(dictionary)"
   ]
  }
 ],
 "metadata": {
  "kernelspec": {
   "display_name": "Python 3 (ipykernel)",
   "language": "python",
   "name": "python3"
  },
  "language_info": {
   "codemirror_mode": {
    "name": "ipython",
    "version": 3
   },
   "file_extension": ".py",
   "mimetype": "text/x-python",
   "name": "python",
   "nbconvert_exporter": "python",
   "pygments_lexer": "ipython3",
   "version": "3.10.14"
  }
 },
 "nbformat": 4,
 "nbformat_minor": 5
}
