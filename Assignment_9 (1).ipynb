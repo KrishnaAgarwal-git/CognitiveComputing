{
 "cells": [
  {
   "cell_type": "code",
   "execution_count": 2,
   "id": "34afc484-92d2-402e-aca5-d8b67caf4c39",
   "metadata": {},
   "outputs": [],
   "source": [
    "import nltk"
   ]
  },
  {
   "cell_type": "code",
   "execution_count": 3,
   "id": "ef7de62e-f4fb-4683-a260-0b705c3ee8e8",
   "metadata": {},
   "outputs": [
    {
     "name": "stdout",
     "output_type": "stream",
     "text": [
      "Food is one of the most universal and joyful parts of life. Every culture around the world has its own unique flavors, traditions, and dishes that tell a story about its people and history. I love how food can bring people together, whether it's through a family meal, a festive celebration, or simply sharing snacks with friends. Trying different cuisines, from spicy Indian curries to rich Italian pastas, always feels like a little adventure. Beyond just taste, food is a way to experience new cultures, learn about different ingredients, and appreciate the creativity that goes into every recipe. There's something magical about how a simple meal can create memories that last a lifetime.\n"
     ]
    }
   ],
   "source": [
    "#Q1. Write a unique paragraph (5-6 sentences) about your favorite topic (e.g., sports, technology, food, books, etc.).\n",
    "\n",
    "#Convert text to lowercase and remove punctuation.\n",
    "#Tokenize the text into words and sentences.\n",
    "#Remove stopwords (using NLTK's stopwords list).\n",
    "#Display word frequency distribution (excluding stopwords).\n",
    "\n",
    "text=\"Food is one of the most universal and joyful parts of life. Every culture around the world has its own unique flavors, traditions, and dishes that tell a story about its people and history. I love how food can bring people together, whether it's through a family meal, a festive celebration, or simply sharing snacks with friends. Trying different cuisines, from spicy Indian curries to rich Italian pastas, always feels like a little adventure. Beyond just taste, food is a way to experience new cultures, learn about different ingredients, and appreciate the creativity that goes into every recipe. There's something magical about how a simple meal can create memories that last a lifetime.\"\n",
    "print(text)"
   ]
  },
  {
   "cell_type": "code",
   "execution_count": 4,
   "id": "897e7e55-97dc-42ac-b805-a77c56af880e",
   "metadata": {},
   "outputs": [
    {
     "name": "stdout",
     "output_type": "stream",
     "text": [
      "food is one of the most universal and joyful parts of life. every culture around the world has its own unique flavors  traditions  and dishes that tell a story about its people and history. i love how food can bring people together  whether it s through a family meal  a festive celebration  or simply sharing snacks with friends. trying different cuisines  from spicy indian curries to rich italian pastas  always feels like a little adventure. beyond just taste  food is a way to experience new cultures  learn about different ingredients  and appreciate the creativity that goes into every recipe. there s something magical about how a simple meal can create memories that last a lifetime.\n"
     ]
    }
   ],
   "source": [
    "import re\n",
    "text=re.sub(r\"[^\\w\\s.]\", \" \", text.lower())\n",
    "print(text)"
   ]
  },
  {
   "cell_type": "code",
   "execution_count": 7,
   "id": "eb6972fe-6946-4d61-85c8-80c310335540",
   "metadata": {},
   "outputs": [
    {
     "name": "stderr",
     "output_type": "stream",
     "text": [
      "[nltk_data] Downloading package punkt_tab to\n",
      "[nltk_data]     C:\\Users\\agarw\\AppData\\Roaming\\nltk_data...\n",
      "[nltk_data]   Unzipping tokenizers\\punkt_tab.zip.\n"
     ]
    },
    {
     "name": "stdout",
     "output_type": "stream",
     "text": [
      "['food', 'is', 'one', 'of', 'the', 'most', 'universal', 'and', 'joyful', 'parts', 'of', 'life', '.', 'every', 'culture', 'around', 'the', 'world', 'has', 'its', 'own', 'unique', 'flavors', 'traditions', 'and', 'dishes', 'that', 'tell', 'a', 'story', 'about', 'its', 'people', 'and', 'history', '.', 'i', 'love', 'how', 'food', 'can', 'bring', 'people', 'together', 'whether', 'it', 's', 'through', 'a', 'family', 'meal', 'a', 'festive', 'celebration', 'or', 'simply', 'sharing', 'snacks', 'with', 'friends', '.', 'trying', 'different', 'cuisines', 'from', 'spicy', 'indian', 'curries', 'to', 'rich', 'italian', 'pastas', 'always', 'feels', 'like', 'a', 'little', 'adventure', '.', 'beyond', 'just', 'taste', 'food', 'is', 'a', 'way', 'to', 'experience', 'new', 'cultures', 'learn', 'about', 'different', 'ingredients', 'and', 'appreciate', 'the', 'creativity', 'that', 'goes', 'into', 'every', 'recipe', '.', 'there', 's', 'something', 'magical', 'about', 'how', 'a', 'simple', 'meal', 'can', 'create', 'memories', 'that', 'last', 'a', 'lifetime', '.']\n"
     ]
    }
   ],
   "source": [
    "import nltk\n",
    "nltk.download('punkt_tab')\n",
    "from nltk.tokenize import word_tokenize\n",
    "word_tokens=word_tokenize(text)\n",
    "print(word_tokens)"
   ]
  },
  {
   "cell_type": "code",
   "execution_count": 8,
   "id": "5fbaa59d-e1a0-48fe-9673-c3598d567cac",
   "metadata": {},
   "outputs": [
    {
     "name": "stdout",
     "output_type": "stream",
     "text": [
      "['food is one of the most universal and joyful parts of life.', 'every culture around the world has its own unique flavors  traditions  and dishes that tell a story about its people and history.', 'i love how food can bring people together  whether it s through a family meal  a festive celebration  or simply sharing snacks with friends.', 'trying different cuisines  from spicy indian curries to rich italian pastas  always feels like a little adventure.', 'beyond just taste  food is a way to experience new cultures  learn about different ingredients  and appreciate the creativity that goes into every recipe.', 'there s something magical about how a simple meal can create memories that last a lifetime.']\n"
     ]
    }
   ],
   "source": [
    "from nltk.tokenize import sent_tokenize\n",
    "sent_tokens=sent_tokenize(text)\n",
    "print(sent_tokens)"
   ]
  },
  {
   "cell_type": "code",
   "execution_count": 10,
   "id": "a2ece2a7-95b7-452b-af07-5cac548b589d",
   "metadata": {},
   "outputs": [
    {
     "name": "stdout",
     "output_type": "stream",
     "text": [
      "food one universal joyful parts life . every culture around world unique flavors traditions dishes tell story people history . love food bring people together whether family meal festive celebration simply sharing snacks friends . trying different cuisines spicy indian curries rich italian pastas always feels like little adventure . beyond taste food way experience new cultures learn different ingredients appreciate creativity goes every recipe . something magical simple meal create memories last lifetime .\n"
     ]
    },
    {
     "name": "stderr",
     "output_type": "stream",
     "text": [
      "[nltk_data] Downloading package stopwords to\n",
      "[nltk_data]     C:\\Users\\agarw\\AppData\\Roaming\\nltk_data...\n",
      "[nltk_data]   Unzipping corpora\\stopwords.zip.\n"
     ]
    }
   ],
   "source": [
    "import nltk\n",
    "nltk.download('stopwords')\n",
    "from nltk.corpus import stopwords\n",
    "stop_words=set(stopwords.words(\"english\"))\n",
    "\n",
    "filtered_tokens=[word for word in word_tokens if word.lower() not in stop_words]\n",
    "s= ' '.join(filtered_tokens)\n",
    "print(s)"
   ]
  },
  {
   "cell_type": "code",
   "execution_count": 11,
   "id": "c66f95db-b6ab-4899-a51c-0c8a119452dc",
   "metadata": {},
   "outputs": [
    {
     "name": "stdout",
     "output_type": "stream",
     "text": [
      ".: 6\n",
      "food: 3\n",
      "every: 2\n",
      "people: 2\n",
      "meal: 2\n",
      "different: 2\n",
      "one: 1\n",
      "universal: 1\n",
      "joyful: 1\n",
      "parts: 1\n"
     ]
    },
    {
     "data": {
      "text/plain": [
       "<Axes: title={'center': 'Word Frequency (Excluding Stopwords)'}, xlabel='Samples', ylabel='Counts'>"
      ]
     },
     "execution_count": 11,
     "metadata": {},
     "output_type": "execute_result"
    },
    {
     "data": {
      "image/png": "[encoded data removed]",
      "text/plain": [
       "<Figure size 640x480 with 1 Axes>"
      ]
     },
     "metadata": {},
     "output_type": "display_data"
    }
   ],
   "source": [
    "from nltk.probability import FreqDist\n",
    "freq_dist=FreqDist(filtered_tokens)\n",
    "\n",
    "for word, freq in freq_dist.most_common(10):\n",
    "    print(f\"{word}: {freq}\")\n",
    "\n",
    "freq_dist.plot(10, title=\"Word Frequency (Excluding Stopwords)\")"
   ]
  },
  {
   "cell_type": "code",
   "execution_count": 12,
   "id": "b356030b-5366-4d42-8b82-158aff1d0c54",
   "metadata": {},
   "outputs": [],
   "source": [
    "#Q2: Stemming and Lemmatization\n",
    "\n",
    "#Take the tokenized words from Question 1 (after stopword removal).\n",
    "#Apply stemming using NLTK's PorterStemmer and LancasterStemmer.\n",
    "#Apply lemmatization using NLTK's WordNetLemmatizer.\n",
    "#Compare and display results of both techniques.\n",
    "\n",
    "from nltk.stem import PorterStemmer,LancasterStemmer\n",
    "ps=PorterStemmer()\n",
    "ls=LancasterStemmer()\n",
    "\n",
    "porter_stems=[ps.stem(word) for word in filtered_tokens]\n",
    "lancaster_stems=[ls.stem(word) for word in filtered_tokens]"
   ]
  },
  {
   "cell_type": "code",
   "execution_count": 14,
   "id": "3d0492af-c79b-4df8-8924-a3f6c0776c80",
   "metadata": {},
   "outputs": [
    {
     "name": "stderr",
     "output_type": "stream",
     "text": [
      "[nltk_data] Downloading package wordnet to\n",
      "[nltk_data]     C:\\Users\\agarw\\AppData\\Roaming\\nltk_data...\n"
     ]
    }
   ],
   "source": [
    "import nltk\n",
    "nltk.download('wordnet')\n",
    "from nltk.stem import WordNetLemmatizer\n",
    "lemmatizer=WordNetLemmatizer()\n",
    "lemmatized_words=[lemmatizer.lemmatize(word) for word in filtered_tokens]"
   ]
  },
  {
   "cell_type": "code",
   "execution_count": 15,
   "id": "d12e97fd-9cfb-42e1-a422-2e13cfe1f004",
   "metadata": {},
   "outputs": [
    {
     "name": "stdout",
     "output_type": "stream",
     "text": [
      "Original       PorterStemmer       LancasterStemmer    Lemmatizer\n",
      "---------------------------------------------------------------------------\n",
      "food           food                food                food\n",
      "one            one                 on                  one\n",
      "universal      univers             univers             universal\n",
      "joyful         joy                 joy                 joyful\n",
      "parts          part                part                part\n",
      "life           life                lif                 life\n",
      ".              .                   .                   .\n",
      "every          everi               every               every\n",
      "culture        cultur              cult                culture\n",
      "around         around              around              around\n",
      "world          world               world               world\n",
      "unique         uniqu               un                  unique\n",
      "flavors        flavor              flav                flavor\n",
      "traditions     tradit              tradit              tradition\n",
      "dishes         dish                dish                dish\n",
      "tell           tell                tel                 tell\n",
      "story          stori               story               story\n",
      "people         peopl               peopl               people\n",
      "history        histori             hist                history\n",
      ".              .                   .                   .\n",
      "love           love                lov                 love\n",
      "food           food                food                food\n",
      "bring          bring               bring               bring\n",
      "people         peopl               peopl               people\n",
      "together       togeth              togeth              together\n",
      "whether        whether             wheth               whether\n",
      "family         famili              famy                family\n",
      "meal           meal                meal                meal\n",
      "festive        festiv              fest                festive\n",
      "celebration    celebr              celebr              celebration\n",
      "simply         simpli              simply              simply\n",
      "sharing        share               shar                sharing\n",
      "snacks         snack               snack               snack\n",
      "friends        friend              friend              friend\n",
      ".              .                   .                   .\n",
      "trying         tri                 try                 trying\n",
      "different      differ              diff                different\n",
      "cuisines       cuisin              cuisin              cuisine\n",
      "spicy          spici               spicy               spicy\n",
      "indian         indian              ind                 indian\n",
      "curries        curri               curry               curry\n",
      "rich           rich                rich                rich\n",
      "italian        italian             it                  italian\n",
      "pastas         pasta               pasta               pasta\n",
      "always         alway               alway               always\n",
      "feels          feel                feel                feel\n",
      "like           like                lik                 like\n",
      "little         littl               littl               little\n",
      "adventure      adventur            adv                 adventure\n",
      ".              .                   .                   .\n",
      "beyond         beyond              beyond              beyond\n",
      "taste          tast                tast                taste\n",
      "food           food                food                food\n",
      "way            way                 way                 way\n",
      "experience     experi              expery              experience\n",
      "new            new                 new                 new\n",
      "cultures       cultur              cult                culture\n",
      "learn          learn               learn               learn\n",
      "different      differ              diff                different\n",
      "ingredients    ingredi             ingredy             ingredient\n",
      "appreciate     appreci             apprecy             appreciate\n",
      "creativity     creativ             cre                 creativity\n",
      "goes           goe                 goe                 go\n",
      "every          everi               every               every\n",
      "recipe         recip               recip               recipe\n",
      ".              .                   .                   .\n",
      "something      someth              someth              something\n",
      "magical        magic               mag                 magical\n",
      "simple         simpl               simpl               simple\n",
      "meal           meal                meal                meal\n",
      "create         creat               cre                 create\n",
      "memories       memori              mem                 memory\n",
      "last           last                last                last\n",
      "lifetime       lifetim             lifetim             lifetime\n",
      ".              .                   .                   .\n"
     ]
    }
   ],
   "source": [
    "print(f\"{'Original':<15}{'PorterStemmer':<20}{'LancasterStemmer':<20}{'Lemmatizer'}\")\n",
    "print(\"-\" * 75)\n",
    "for original, ps, ls, lm in zip(filtered_tokens, porter_stems, lancaster_stems, lemmatized_words):\n",
    "    print(f\"{original:<15}{ps:<20}{ls:<20}{lm}\")"
   ]
  },
  {
   "cell_type": "code",
   "execution_count": 16,
   "id": "5c830ac0-5120-4e8b-bf7f-c95a426a63e5",
   "metadata": {},
   "outputs": [
    {
     "name": "stdout",
     "output_type": "stream",
     "text": [
      "Food is one of the most universal and joyful parts of life. Every culture around the world has its own unique flavors, traditions, and dishes that tell a story about its people and history. I love how food can bring people together, whether it's through a family meal, a festive celebration, or simply sharing snacks with friends. Trying different cuisines, from spicy Indian curries to rich Italian pastas, always feels like a little adventure. Beyond just taste, food is a way to experience new cultures, learn about different ingredients, and appreciate the creativity that goes into every recipe. There's something magical about how a simple meal can create memories that last a lifetime.\n"
     ]
    }
   ],
   "source": [
    "#Q3. Regular Expressions and Text Splitting\n",
    "\n",
    "#1.Take their original text from Ques on 1.\n",
    "\n",
    "#2.Use regular expressions to:\n",
    "\n",
    "#a. Extract all words with more than 5 letters.\n",
    "\n",
    "#b. Extract all numbers (if any exist in their text).\n",
    "\n",
    "#c. Extract all capitalized words.\n",
    "\n",
    "#3.Use text splitting techniques to:\n",
    "\n",
    "#a. Split the text into words containing only alphabets (removing digits and special characters).\n",
    "\n",
    "#b. Extract words starting with a vowel.\n",
    "\n",
    "text=\"Food is one of the most universal and joyful parts of life. Every culture around the world has its own unique flavors, traditions, and dishes that tell a story about its people and history. I love how food can bring people together, whether it's through a family meal, a festive celebration, or simply sharing snacks with friends. Trying different cuisines, from spicy Indian curries to rich Italian pastas, always feels like a little adventure. Beyond just taste, food is a way to experience new cultures, learn about different ingredients, and appreciate the creativity that goes into every recipe. There's something magical about how a simple meal can create memories that last a lifetime.\"\n",
    "print(text)"
   ]
  },
  {
   "cell_type": "code",
   "execution_count": 17,
   "id": "8facc113-ea13-4cfc-ab6d-c55a9779ff2d",
   "metadata": {},
   "outputs": [
    {
     "name": "stdout",
     "output_type": "stream",
     "text": [
      "['universal', 'joyful', 'culture', 'around', 'unique', 'flavors', 'traditions', 'dishes', 'people', 'history', 'people', 'together', 'whether', 'through', 'family', 'festive', 'celebration', 'simply', 'sharing', 'snacks', 'friends', 'Trying', 'different', 'cuisines', 'Indian', 'curries', 'Italian', 'pastas', 'always', 'little', 'adventure', 'Beyond', 'experience', 'cultures', 'different', 'ingredients', 'appreciate', 'creativity', 'recipe', 'something', 'magical', 'simple', 'create', 'memories', 'lifetime']\n"
     ]
    }
   ],
   "source": [
    "word_5=re.findall(r'\\b[a-zA-Z]{6,}\\b',text)\n",
    "print(word_5)"
   ]
  },
  {
   "cell_type": "code",
   "execution_count": 18,
   "id": "68716b68-d49c-40a8-a00e-84f02f5a2df6",
   "metadata": {},
   "outputs": [
    {
     "name": "stdout",
     "output_type": "stream",
     "text": [
      "[]\n"
     ]
    }
   ],
   "source": [
    "all_numbers=re.findall(r'\\b\\d+\\b',text)\n",
    "print(all_numbers)"
   ]
  },
  {
   "cell_type": "code",
   "execution_count": 19,
   "id": "032e444b-d5bf-409d-a336-c1c9c5a278ea",
   "metadata": {},
   "outputs": [
    {
     "name": "stdout",
     "output_type": "stream",
     "text": [
      "['Food', 'Every', 'I', 'Trying', 'Indian', 'Italian', 'Beyond', 'There']\n"
     ]
    }
   ],
   "source": [
    "capt_words=re.findall(r'\\b[A-Z][a-z]*\\b',text)\n",
    "print(capt_words)"
   ]
  },
  {
   "cell_type": "code",
   "execution_count": 20,
   "id": "2076e0f3-d491-485f-ba94-462655d9df1a",
   "metadata": {},
   "outputs": [
    {
     "name": "stdout",
     "output_type": "stream",
     "text": [
      "['Food', 'is', 'one', 'of', 'the', 'most', 'universal', 'and', 'joyful', 'parts', 'of', 'life', 'Every', 'culture', 'around', 'the', 'world', 'has', 'its', 'own', 'unique', 'flavors', 'traditions', 'and', 'dishes', 'that', 'tell', 'a', 'story', 'about', 'its', 'people', 'and', 'history', 'I', 'love', 'how', 'food', 'can', 'bring', 'people', 'together', 'whether', 'it', 's', 'through', 'a', 'family', 'meal', 'a', 'festive', 'celebration', 'or', 'simply', 'sharing', 'snacks', 'with', 'friends', 'Trying', 'different', 'cuisines', 'from', 'spicy', 'Indian', 'curries', 'to', 'rich', 'Italian', 'pastas', 'always', 'feels', 'like', 'a', 'little', 'adventure', 'Beyond', 'just', 'taste', 'food', 'is', 'a', 'way', 'to', 'experience', 'new', 'cultures', 'learn', 'about', 'different', 'ingredients', 'and', 'appreciate', 'the', 'creativity', 'that', 'goes', 'into', 'every', 'recipe', 'There', 's', 'something', 'magical', 'about', 'how', 'a', 'simple', 'meal', 'can', 'create', 'memories', 'that', 'last', 'a', 'lifetime']\n"
     ]
    }
   ],
   "source": [
    "alphabets=re.findall(r'\\b[a-zA-Z]+\\b',text)\n",
    "print(alphabets)"
   ]
  },
  {
   "cell_type": "code",
   "execution_count": 21,
   "id": "db0d4a06-ed6e-4539-90a3-2740efd81573",
   "metadata": {},
   "outputs": [
    {
     "name": "stdout",
     "output_type": "stream",
     "text": [
      "['is', 'one', 'of', 'universal', 'and', 'of', 'Every', 'around', 'its', 'own', 'unique', 'and', 'a', 'about', 'its', 'and', 'I', 'it', 'a', 'a', 'or', 'Indian', 'Italian', 'always', 'a', 'adventure', 'is', 'a', 'experience', 'about', 'ingredients', 'and', 'appreciate', 'into', 'every', 'about', 'a', 'a']\n"
     ]
    }
   ],
   "source": [
    "vowel_words=[word for word in alphabets if re.match(r'^[aeiouAEIOU]',word)]\n",
    "print(vowel_words)"
   ]
  },
  {
   "cell_type": "code",
   "execution_count": 22,
   "id": "d61e96f1-377a-4828-86a2-5a24396beb2d",
   "metadata": {},
   "outputs": [
    {
     "name": "stdout",
     "output_type": "stream",
     "text": [
      "Food is one of the most universal and joyful parts of life. Every culture around the world has its own unique flavors, traditions, and dishes that tell a story about its people and history. I love how food can bring people together, whether it's through a family meal, a festive celebration, or simply sharing snacks with friends. Trying different cuisines, from spicy Indian curries to rich Italian pastas, always feels like a little adventure. Beyond just taste, food is a way to experience new cultures, learn about different ingredients, and appreciate the creativity that goes into every recipe. There's something magical about how a simple meal can create memories that last a lifetime.\n"
     ]
    }
   ],
   "source": [
    "#Q4. Custom Tokenization & Regex-based Text Cleaning\n",
    "\n",
    "#1.Take original text from Ques on 1.\n",
    "\n",
    "#2.Write a custom tokenization function that:\n",
    "\n",
    "#a. Removes punctuation and special symbols, but keeps contractions (e.g., \"isn't\" should not be split into \"is\" and \"n't\").\n",
    "\n",
    "#b. Handles hyphenated words as a single token (e.g., \"state-of-the-art\" remains a single token).\n",
    "\n",
    "#c. Tokenizes numbers separately but keeps decimal numbers intact (e.g., \"3.14\" should remain as is).\n",
    "\n",
    "#3.Use Regex Substitutions (re.sub) to:\n",
    "\n",
    "#a. Replace email addresses with EMAIL placeholder.\n",
    "\n",
    "#b. Replace URLs with URL placeholder.\n",
    "\n",
    "#c. Replace phone numbers (formats: 123-456-7890 or +91 9876543210) with PHONE placeholder.\n",
    "\n",
    "text=\"Food is one of the most universal and joyful parts of life. Every culture around the world has its own unique flavors, traditions, and dishes that tell a story about its people and history. I love how food can bring people together, whether it's through a family meal, a festive celebration, or simply sharing snacks with friends. Trying different cuisines, from spicy Indian curries to rich Italian pastas, always feels like a little adventure. Beyond just taste, food is a way to experience new cultures, learn about different ingredients, and appreciate the creativity that goes into every recipe. There's something magical about how a simple meal can create memories that last a lifetime.\"\n",
    "print(text)"
   ]
  },
  {
   "cell_type": "code",
   "execution_count": 25,
   "id": "2f804c3e-0440-45ec-9b1d-23a168b669ac",
   "metadata": {},
   "outputs": [
    {
     "name": "stdout",
     "output_type": "stream",
     "text": [
      "['Food', 'is', 'one', 'of', 'the', 'most', 'universal', 'and', 'joyful', 'parts', 'of', 'life', 'Every', 'culture', 'around', 'the', 'world', 'has', 'its', 'own', 'unique', 'flavors', 'traditions', 'and', 'dishes', 'that', 'tell', 'a', 'story', 'about', 'its', 'people', 'and', 'history', 'I', 'love', 'how', 'food', 'can', 'bring', 'people', 'together', 'whether', \"it's\", 'through', 'a', 'family', 'meal', 'a', 'festive', 'celebration', 'or', 'simply', 'sharing', 'snacks', 'with', 'friends', 'Trying', 'different', 'cuisines', 'from', 'spicy', 'Indian', 'curries', 'to', 'rich', 'Italian', 'pastas', 'always', 'feels', 'like', 'a', 'little', 'adventure', 'Beyond', 'just', 'taste', 'food', 'is', 'a', 'way', 'to', 'experience', 'new', 'cultures', 'learn', 'about', 'different', 'ingredients', 'and', 'appreciate', 'the', 'creativity', 'that', 'goes', 'into', 'every', 'recipe', \"There's\", 'something', 'magical', 'about', 'how', 'a', 'simple', 'meal', 'can', 'create', 'memories', 'that', 'last', 'a', 'lifetime']\n"
     ]
    }
   ],
   "source": [
    "def custom_tokenize(text):\n",
    "    text = re.sub(r\"[–—]\", \"-\", text)\n",
    "    clean_text = re.sub(r\"[^\\w\\s'-]\", '', text)\n",
    "    tokens = re.findall(r\"\\b(?:\\d+\\.\\d+|\\w+(?:[-']\\w+)*)\\b\", clean_text)\n",
    "    return tokens\n",
    "tokens=custom_tokenize(text)\n",
    "print(tokens)"
   ]
  },
  {
   "cell_type": "code",
   "execution_count": 31,
   "id": "c203a4ea-eaf2-463d-96ae-5e57f0114d7b",
   "metadata": {},
   "outputs": [],
   "source": [
    "def replace_sensitive_info(text):\n",
    "    text = re.sub(r'\\b[\\w\\.-]+@[\\w\\.-]+\\.\\w+\\b', 'EMAIL', text)\n",
    "    text = re.sub(r'https?://\\S+', 'URL', text)\n",
    "    text = re.sub(r'(\\+\\d{1,3}\\s\\d{10})|(\\d{3}-\\d{3}-\\d{4})', 'PHONE', text)\n",
    "    return text"
   ]
  },
  {
   "cell_type": "code",
   "execution_count": 32,
   "id": "33c026df-617b-4bf1-b10c-8a3ffef66a2c",
   "metadata": {},
   "outputs": [
    {
     "name": "stdout",
     "output_type": "stream",
     "text": [
      "Contact me at alex.smith@domain.org or visit https://newsite.org.\n",
      "You can also call +44 7654321098 or 321-654-0987.\n",
      "Another email: sample_user456@webmail.net\n"
     ]
    }
   ],
   "source": [
    "text = \"\"\"Contact me at alex.smith@domain.org or visit https://newsite.org.\n",
    "You can also call +44 7654321098 or 321-654-0987.\n",
    "Another email: sample_user456@webmail.net\"\"\"\n",
    "print(text)"
   ]
  },
  {
   "cell_type": "code",
   "execution_count": 33,
   "id": "8799dbc0-951e-41eb-8b64-b3fb67f1a88a",
   "metadata": {},
   "outputs": [
    {
     "name": "stdout",
     "output_type": "stream",
     "text": [
      "Contact me at EMAIL or visit URL\n",
      "You can also call PHONE or PHONE.\n",
      "Another email: EMAIL\n"
     ]
    }
   ],
   "source": [
    "print(replace_sensitive_info(text))"
   ]
  },
  {
   "cell_type": "code",
   "execution_count": null,
   "id": "491a1ad7-c839-496f-9c75-c27f658dff6b",
   "metadata": {},
   "outputs": [],
   "source": []
  }
 ],
 "metadata": {
  "kernelspec": {
   "display_name": "Python 3 (ipykernel)",
   "language": "python",
   "name": "python3"
  },
  "language_info": {
   "codemirror_mode": {
    "name": "ipython",
    "version": 3
   },
   "file_extension": ".py",
   "mimetype": "text/x-python",
   "name": "python",
   "nbconvert_exporter": "python",
   "pygments_lexer": "ipython3",
   "version": "3.12.8"
  }
 },
 "nbformat": 4,
 "nbformat_minor": 5
}
